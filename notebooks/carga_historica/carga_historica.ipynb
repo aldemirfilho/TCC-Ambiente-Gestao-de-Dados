{
 "cells": [
  {
   "cell_type": "code",
   "execution_count": 1,
   "id": "9b613e1b-e6a4-426a-b5bb-6ba8819776d4",
   "metadata": {},
   "outputs": [],
   "source": [
    "from sqlalchemy import create_engine\n",
    "import os"
   ]
  },
  {
   "cell_type": "code",
   "execution_count": 2,
   "id": "2a934a85-364f-4738-b130-ebae01d39191",
   "metadata": {},
   "outputs": [],
   "source": [
    "db_username = os.getenv(\"DB_PG_USER\")\n",
    "db_password = os.getenv(\"DB_PG_PASS\")\n",
    "db_hostname = os.getenv(\"DB_PG_HOST\")\n",
    "db_port = '5432'\n",
    "db_name = 'aplicacao'\n",
    "db_schema = 'dw'"
   ]
  },
  {
   "cell_type": "code",
   "execution_count": 3,
   "id": "d96982bf-ed82-4237-8365-e259bd9ddcb3",
   "metadata": {},
   "outputs": [],
   "source": [
    "connection_str = f'postgresql://{db_username}:{db_password}@{db_hostname}:{db_port}/{db_name}'"
   ]
  },
  {
   "cell_type": "code",
   "execution_count": 4,
   "id": "e1fc92df-82b2-47ad-97bc-a83603a6c9eb",
   "metadata": {},
   "outputs": [],
   "source": [
    "engine = create_engine(connection_str)"
   ]
  },
  {
   "cell_type": "code",
   "execution_count": 5,
   "id": "ed669d3f-1f26-4cc2-be16-f55ed87f2f88",
   "metadata": {},
   "outputs": [],
   "source": [
    "def execute_sql_file(sql_file_path):\n",
    "    with open(sql_file_path, 'r') as file:\n",
    "        sql_query = file.read()\n",
    "        # Adicionando o esquema à consulta\n",
    "        schema_qualified_query = sql_query.replace('public.', f'{db_schema}.')\n",
    "        result = engine.execute(schema_qualified_query)\n",
    "        print(\"Query executada com sucesso!\")"
   ]
  },
  {
   "cell_type": "code",
   "execution_count": 6,
   "id": "37e39abd-09ec-4e8d-935c-920a2ff0026b",
   "metadata": {},
   "outputs": [],
   "source": [
    "caminho_sql = 'processosporcategoria_202403231315.sql'"
   ]
  },
  {
   "cell_type": "code",
   "execution_count": 8,
   "id": "2078edc4-b4ac-47d7-8128-8057d24ee014",
   "metadata": {},
   "outputs": [
    {
     "name": "stdout",
     "output_type": "stream",
     "text": [
      "Query executada com sucesso!\n"
     ]
    }
   ],
   "source": [
    "# Executar o arquivo .sql\n",
    "execute_sql_file(caminho_sql)"
   ]
  },
  {
   "cell_type": "code",
   "execution_count": null,
   "id": "89c95ac5-16e1-4fec-becc-a9baaa5c99bc",
   "metadata": {},
   "outputs": [],
   "source": []
  }
 ],
 "metadata": {
  "kernelspec": {
   "display_name": "Python 3 (ipykernel)",
   "language": "python",
   "name": "python3"
  },
  "language_info": {
   "codemirror_mode": {
    "name": "ipython",
    "version": 3
   },
   "file_extension": ".py",
   "mimetype": "text/x-python",
   "name": "python",
   "nbconvert_exporter": "python",
   "pygments_lexer": "ipython3",
   "version": "3.11.6"
  }
 },
 "nbformat": 4,
 "nbformat_minor": 5
}
