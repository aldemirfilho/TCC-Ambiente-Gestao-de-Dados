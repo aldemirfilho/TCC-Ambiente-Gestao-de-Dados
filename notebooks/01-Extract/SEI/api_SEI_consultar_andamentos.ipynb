{
 "cells": [
  {
   "cell_type": "code",
   "execution_count": 1,
   "id": "3fc0900c-1ed8-4e63-bd8e-9657cd5dae37",
   "metadata": {},
   "outputs": [],
   "source": [
    "import sys\n",
    "sys.path.append('/home/jovyan/work')\n",
    "import xml.etree.ElementTree as ET\n",
    "import xml.dom.minidom\n",
    "import os\n",
    "import shutil\n",
    "import requests\n",
    "import urllib.parse\n",
    "import pandas as pd\n",
    "import pymssql\n",
    "from datetime import datetime\n",
    "from urllib.parse import quote_plus\n",
    "from sqlalchemy import create_engine, text\n",
    "from minio import Minio\n",
    "from utils.SendMinio import SendMinio\n",
    "import json"
   ]
  },
  {
   "cell_type": "markdown",
   "id": "6b271934-01e4-47a3-8d09-f8c2fb8e150d",
   "metadata": {},
   "source": [
    "### Define Variaveis de conexão banco e API"
   ]
  },
  {
   "cell_type": "code",
   "execution_count": 2,
   "id": "0721124a-e19d-4c05-8a4a-1763490d6b6b",
   "metadata": {},
   "outputs": [],
   "source": [
    "db_username = os.getenv(\"DB_PG_USER\")\n",
    "db_password = os.getenv(\"DB_PG_PASS\")\n",
    "db_hostname = os.getenv(\"DB_PG_HOST\")\n",
    "db_port = '5432'\n",
    "db_name = 'aplicacao'\n",
    "db_schema = 'dw'\n",
    "\n",
    "connection_str = f'postgresql://{db_username}:{db_password}@{db_hostname}:{db_port}/{db_name}'\n",
    "\n",
    "engine = create_engine(connection_str)"
   ]
  },
  {
   "cell_type": "code",
   "execution_count": 3,
   "id": "dbba72a8-1d1f-42ac-a86f-22ffa450e232",
   "metadata": {},
   "outputs": [],
   "source": [
    "# Define o URL do endpoint da API SOAP\n",
    "url = 'https://sei.trf5.jus.br/sei/ws/SeiWS.php'"
   ]
  },
  {
   "cell_type": "markdown",
   "id": "df520ba6-6bf7-4496-8e60-2cd48b542967",
   "metadata": {},
   "source": [
    "### Define Lista de Processos"
   ]
  },
  {
   "cell_type": "code",
   "execution_count": 4,
   "id": "4685f8e8-132e-4aa6-9502-3598cead48e7",
   "metadata": {},
   "outputs": [],
   "source": [
    "lista_de_procedimentos = []"
   ]
  },
  {
   "cell_type": "code",
   "execution_count": 5,
   "id": "9fdc6212-c188-4a94-a8a2-9cdedd6a84e9",
   "metadata": {},
   "outputs": [],
   "source": [
    "# Defina sua consulta SQL\n",
    "sql_query = \"SELECT processo FROM dw.dim_processosporcategoria;\"\n",
    "\n",
    "#coleta da data de ultima atualização\n",
    "with engine.connect() as connection:\n",
    "    result = connection.execute(text(sql_query))\n",
    "    for row in result:\n",
    "        lista_de_procedimentos.append(row[0])  # Assume que a coluna de processo é a primeira"
   ]
  },
  {
   "cell_type": "code",
   "execution_count": null,
   "id": "3a75ec8f-faa4-4c33-80d8-39ec134563e0",
   "metadata": {
    "scrolled": true
   },
   "outputs": [],
   "source": [
    "print(lista_de_procedimentos)"
   ]
  },
  {
   "cell_type": "markdown",
   "id": "f52f1524-f057-453c-9747-6138bdfcbcf1",
   "metadata": {},
   "source": [
    "### Consultar Procedimentos"
   ]
  },
  {
   "cell_type": "code",
   "execution_count": 7,
   "id": "32935ee5-4e41-41b7-816a-3b9eda5890b2",
   "metadata": {},
   "outputs": [],
   "source": [
    "def extract_data_from_xml(root, tag):\n",
    "    columns = []\n",
    "    data = {}\n",
    "\n",
    "    # Itera sobre os elementos XML para extrair os dados\n",
    "    for tag in root.findall(f'.//{tag}'):\n",
    "        for child in tag:\n",
    "            if child.tag not in columns:\n",
    "                columns.append(child.tag)\n",
    "                data[child.tag] = []\n",
    "\n",
    "            # Verifica se a tag atual é 'Unidade' ou 'Usuario'\n",
    "            if child.tag == 'Unidade' or child.tag == 'Usuario':\n",
    "                # Encontra a subtag 'IdUnidade' ou 'IdUsuario' dentro de 'Unidade' ou 'Usuario', respectivamente\n",
    "                subtag_id = child.find('Id' + child.tag)\n",
    "                # Se a subtag 'IdUnidade' ou 'IdUsuario' existe, adiciona seu texto ao dataframe\n",
    "                if subtag_id is not None:\n",
    "                    data[child.tag].append(subtag_id.text)\n",
    "                # Se a subtag 'IdUnidade' ou 'IdUsuario' não existe, adiciona None ao dataframe\n",
    "                else:\n",
    "                    data[child.tag].append(None)\n",
    "            # Se não for 'Unidade' ou 'Usuario', adiciona o texto da tag ao dataframe\n",
    "            else:\n",
    "                data[child.tag].append(child.text)\n",
    "\n",
    "    return columns, data\n"
   ]
  },
  {
   "cell_type": "code",
   "execution_count": 8,
   "id": "34fa47ae-4eac-4a54-b269-b22bed77aaf1",
   "metadata": {},
   "outputs": [],
   "source": [
    "def xml_to_dataframe(url, xml_body, tag):\n",
    "    # Faz a requisição SOAP\n",
    "    response = requests.post(url, data=xml_body, headers={'Content-Type': 'text/xml'})\n",
    "\n",
    "    # Verifica se a requisição foi bem-sucedida\n",
    "    if response.status_code == 200:\n",
    "        # Parseia a resposta XML\n",
    "        root = ET.fromstring(response.content)\n",
    "        \n",
    "        # Extrai os nomes das colunas e os dados\n",
    "        columns, data = extract_data_from_xml(root, tag)\n",
    "        \n",
    "        # Cria o DataFrame\n",
    "        df = pd.DataFrame(data, columns=columns)\n",
    "        \n",
    "        return df\n",
    "    \n",
    "    else:\n",
    "        print('Erro ao fazer a requisição:', response.status_code, response.text)\n",
    "        return None"
   ]
  },
  {
   "cell_type": "code",
   "execution_count": 9,
   "id": "e29d2072-cc4f-484c-9978-98757f52e8bc",
   "metadata": {},
   "outputs": [],
   "source": [
    "#obs: tarefa utilizada -> 2\n",
    "# Refere-se a 'Geração de documento público'"
   ]
  },
  {
   "cell_type": "code",
   "execution_count": 10,
   "id": "da956bae-e3dd-4620-b94e-2d0d3784ea6d",
   "metadata": {},
   "outputs": [],
   "source": [
    "def consultar_api_e_gerar_df(lista_de_procedimentos, url, tag, key):\n",
    "    # Crie um dataframe vazio para acumular os resultados\n",
    "    df_acumulado = pd.DataFrame()\n",
    "\n",
    "    for procedimento in lista_de_procedimentos:\n",
    "        # Define o XML para a requisição\n",
    "        xml_body = f\"\"\"\n",
    "        <soapenv:Envelope xmlns:xsi=\"http://www.w3.org/2001/XMLSchema-instance\" xmlns:xsd=\"http://www.w3.org/2001/XMLSchema\" xmlns:soapenv=\"http://schemas.xmlsoap.org/soap/envelope/\" xmlns:sei=\"Sei\">\n",
    "           <soapenv:Header/>\n",
    "           <soapenv:Body>\n",
    "              <sei:listarAndamentos soapenv:encodingStyle=\"http://schemas.xmlsoap.org/soap/encoding/\">\n",
    "                 <SiglaSistema xsi:type=\"xsd:string\">SIS-JFAL</SiglaSistema>\n",
    "                 <IdentificacaoServico xsi:type=\"xsd:string\">{TOKEN_API}</IdentificacaoServico>\n",
    "                 <IdUnidade xsi:type=\"xsd:string\">110001098</IdUnidade>\n",
    "                 <ProtocoloProcedimento xsi:type=\"xsd:string\">{procedimento}</ProtocoloProcedimento> \n",
    "                 <SinRetornarAtributos xsi:type=\"xsd:string\">N</SinRetornarAtributos>\n",
    "                 <Tarefas xsi:type=\"xsd:string\">2</Tarefas>\n",
    "              </sei:listarAndamentos>\n",
    "           </soapenv:Body>\n",
    "        </soapenv:Envelope>\n",
    "        \"\"\"\n",
    "\n",
    "        # Supondo que xml_to_dataframe() retorna um DataFrame com a estrutura correta\n",
    "        df = xml_to_dataframe(url, xml_body, tag)\n",
    "        df['IdProcedimentoFormatado'] = procedimento\n",
    "\n",
    "        # Concatena o dataframe atual ao acumulado\n",
    "        df_acumulado = pd.concat([df_acumulado, df], ignore_index=True)\n",
    "\n",
    "    # Remove registros duplicados com base na coluna 'idUsuario'\n",
    "    df_acumulado = df_acumulado.drop_duplicates(subset=key)\n",
    "\n",
    "    return df_acumulado"
   ]
  },
  {
   "cell_type": "markdown",
   "id": "83c86aa9-17ef-42c5-9645-44da5efd40e6",
   "metadata": {},
   "source": [
    "### Atualização de Tabelas"
   ]
  },
  {
   "cell_type": "code",
   "execution_count": 12,
   "id": "dec962ff-1d1a-4b05-8aca-9ac2e2dfae22",
   "metadata": {},
   "outputs": [],
   "source": [
    "df_andamentos = consultar_api_e_gerar_df(lista_de_procedimentos, url, \"item\", \"IdAndamento\")"
   ]
  },
  {
   "cell_type": "code",
   "execution_count": null,
   "id": "16fc9895-2718-43db-a81d-0ff5e5cc37f5",
   "metadata": {},
   "outputs": [],
   "source": [
    "print(df_andamentos.head(10))"
   ]
  },
  {
   "cell_type": "markdown",
   "id": "555e3619-a508-48a0-886a-e3127e2e4ed1",
   "metadata": {},
   "source": [
    "### Função para inserir no Data Lake"
   ]
  },
  {
   "cell_type": "code",
   "execution_count": 15,
   "id": "e77cf984-fbc3-4d2a-b6ab-e989ae3ef813",
   "metadata": {},
   "outputs": [],
   "source": [
    "def insert_datalake(df, name_folder, name_file):\n",
    "    today = datetime.today().strftime(\"%Y%m%d\")\n",
    "    # Camada (bucket) do MinIO para qual os dados extraídos serão enviados\n",
    "    bucket_path = \"raw\"\n",
    "    # Data Mart do DW ao qual esse notebook pertence\n",
    "    business_area = \"sei_andamentos\"\n",
    "\n",
    "    minio_host = os.getenv(\"MINIO_HOST\")\n",
    "    minio_access_key = os.getenv(\"MINIO_ACCESS_KEY\")\n",
    "    minio_secret_key = os.getenv(\"MINIO_SECRET_KEY\")\n",
    "\n",
    "    client = Minio(\n",
    "        minio_host,\n",
    "        access_key = minio_access_key,\n",
    "        secret_key = minio_secret_key,\n",
    "        secure = False\n",
    "    )\n",
    "\n",
    "    today = datetime.today().strftime(\"%Y%m%d\")\n",
    "    today_folder = datetime.today().strftime(\"%Y%m%d\")\n",
    "    file_output = f'{name_file}_{today}.json'\n",
    "\n",
    "    # Transforme o DataFrame em uma lista de dicionários\n",
    "    data = df.to_dict(orient='records')\n",
    "\n",
    "    # Crie um arquivo JSON com o formato desejado\n",
    "    with open(file_output, 'w', encoding='utf-8') as json_file:\n",
    "        json.dump(data, json_file, ensure_ascii=False, indent=4)\n",
    "    \n",
    "    sm = SendMinio(client=client,bucket_name=bucket_path,object_name=f\"{business_area}/operacional/{name_folder}/{today_folder}/{file_output}\",file_path=file_output)\n",
    "    sm.send2bucket()\n",
    "    os.remove(file_output)"
   ]
  },
  {
   "cell_type": "markdown",
   "id": "d0789d1a-4a6e-4990-8c12-45d1e3dbe2ec",
   "metadata": {},
   "source": [
    "### Carga"
   ]
  },
  {
   "cell_type": "code",
   "execution_count": 16,
   "id": "451c4d1d-38ee-43f2-b64c-a129f08d705c",
   "metadata": {},
   "outputs": [],
   "source": [
    "name_folder = \"andamentos\"\n",
    "name_file = \"andamentos\""
   ]
  },
  {
   "cell_type": "code",
   "execution_count": 17,
   "id": "d19d3f06-204b-4555-942b-5c3af5d59923",
   "metadata": {},
   "outputs": [
    {
     "name": "stdout",
     "output_type": "stream",
     "text": [
      "Bucket existente... enviando arquivos\n"
     ]
    }
   ],
   "source": [
    "insert_datalake(df_andamentos, name_folder, name_file)"
   ]
  },
  {
   "cell_type": "code",
   "execution_count": null,
   "id": "7937bcb7-60f9-4039-8e40-dd409e0a2b2e",
   "metadata": {},
   "outputs": [],
   "source": []
  }
 ],
 "metadata": {
  "kernelspec": {
   "display_name": "Python 3 (ipykernel)",
   "language": "python",
   "name": "python3"
  },
  "language_info": {
   "codemirror_mode": {
    "name": "ipython",
    "version": 3
   },
   "file_extension": ".py",
   "mimetype": "text/x-python",
   "name": "python",
   "nbconvert_exporter": "python",
   "pygments_lexer": "ipython3",
   "version": "3.11.6"
  }
 },
 "nbformat": 4,
 "nbformat_minor": 5
}
