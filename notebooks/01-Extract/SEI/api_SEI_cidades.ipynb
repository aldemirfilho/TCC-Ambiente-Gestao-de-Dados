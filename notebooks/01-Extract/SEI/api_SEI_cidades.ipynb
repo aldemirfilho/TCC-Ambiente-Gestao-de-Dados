{
 "cells": [
  {
   "cell_type": "code",
   "execution_count": 1,
   "id": "3fc0900c-1ed8-4e63-bd8e-9657cd5dae37",
   "metadata": {},
   "outputs": [],
   "source": [
    "import sys\n",
    "sys.path.append('/home/jovyan/work')\n",
    "import xml.etree.ElementTree as ET\n",
    "import xml.dom.minidom\n",
    "import os\n",
    "import shutil\n",
    "import requests\n",
    "import urllib.parse\n",
    "import pandas as pd\n",
    "import pymssql\n",
    "from datetime import datetime\n",
    "from urllib.parse import quote_plus\n",
    "from sqlalchemy import create_engine\n",
    "from minio import Minio\n",
    "from utils.SendMinio import SendMinio\n",
    "import json"
   ]
  },
  {
   "cell_type": "code",
   "execution_count": null,
   "id": "da956bae-e3dd-4620-b94e-2d0d3784ea6d",
   "metadata": {},
   "outputs": [],
   "source": [
    "# Define o XML para a requisição\n",
    "xml_body = \"\"\"\n",
    "<soapenv:Envelope xmlns:xsi=\"http://www.w3.org/2001/XMLSchema-instance\" xmlns:xsd=\"http://www.w3.org/2001/XMLSchema\" xmlns:soapenv=\"http://schemas.xmlsoap.org/soap/envelope/\" xmlns:sei=\"Sei\">\n",
    "   <soapenv:Header/>\n",
    "   <soapenv:Body>\n",
    "      <sei:listarCidades soapenv:encodingStyle=\"http://schemas.xmlsoap.org/soap/encoding/\">\n",
    "         <SiglaSistema xsi:type=\"xsd:string\">SIS-JFAL</SiglaSistema>\n",
    "         <IdentificacaoServico xsi:type=\"xsd:string\">{TOKEN_API}</IdentificacaoServico>\n",
    "         <IdUnidade xsi:type=\"xsd:string\">110001098</IdUnidade>\n",
    "      </sei:listarCidades>\n",
    "   </soapenv:Body>\n",
    "</soapenv:Envelope>\n",
    "\"\"\"\n",
    "\n",
    "# Define o URL do endpoint da API SOAP\n",
    "url = 'https://sei.trf5.jus.br/sei/ws/SeiWS.php'"
   ]
  },
  {
   "cell_type": "code",
   "execution_count": 3,
   "id": "7037f3dc-a49a-4f2d-b747-22e2a4680d83",
   "metadata": {},
   "outputs": [],
   "source": [
    "# Faz a requisição SOAP\n",
    "response = requests.post(url, data=xml_body, headers={'Content-Type': 'text/xml'})\n"
   ]
  },
  {
   "cell_type": "code",
   "execution_count": 4,
   "id": "49d04aef-f34d-4411-ae49-6ad64974d016",
   "metadata": {},
   "outputs": [],
   "source": [
    "def extract_data_from_xml(root):\n",
    "    columns = []\n",
    "    data = {}\n",
    "\n",
    "    # Itera sobre os elementos XML para extrair os dados\n",
    "    for item in root.findall('.//item'):\n",
    "        for child in item:\n",
    "            if child.tag not in columns:\n",
    "                columns.append(child.tag)\n",
    "                data[child.tag] = []\n",
    "\n",
    "            data[child.tag].append(child.text)\n",
    "\n",
    "    return columns, data"
   ]
  },
  {
   "cell_type": "code",
   "execution_count": 5,
   "id": "1a1c3d2e-3e6a-4b58-9076-8ea4363a5770",
   "metadata": {},
   "outputs": [],
   "source": [
    "def xml_to_dataframe(url, xml_body):\n",
    "    # Faz a requisição SOAP\n",
    "    response = requests.post(url, data=xml_body, headers={'Content-Type': 'text/xml'})\n",
    "\n",
    "    # Verifica se a requisição foi bem-sucedida\n",
    "    if response.status_code == 200:\n",
    "        # Parseia a resposta XML\n",
    "        root = ET.fromstring(response.content)\n",
    "        \n",
    "        # Extrai os nomes das colunas e os dados\n",
    "        columns, data = extract_data_from_xml(root)\n",
    "        \n",
    "        # Cria o DataFrame\n",
    "        df = pd.DataFrame(data, columns=columns)\n",
    "        \n",
    "        return df\n",
    "    \n",
    "    else:\n",
    "        print('Erro ao fazer a requisição:', response.status_code, response.text)\n",
    "        return None"
   ]
  },
  {
   "cell_type": "code",
   "execution_count": null,
   "id": "d1216d87-5978-4ab8-b1af-f947c3076302",
   "metadata": {},
   "outputs": [],
   "source": [
    "df_cidades = xml_to_dataframe(url, xml_body)\n",
    "\n",
    "if df_cidades is not None:\n",
    "    print(df_cidades)"
   ]
  },
  {
   "cell_type": "markdown",
   "id": "555e3619-a508-48a0-886a-e3127e2e4ed1",
   "metadata": {},
   "source": [
    "# Função para inserir no Data Lake"
   ]
  },
  {
   "cell_type": "code",
   "execution_count": 7,
   "id": "e77cf984-fbc3-4d2a-b6ab-e989ae3ef813",
   "metadata": {},
   "outputs": [],
   "source": [
    "def insert_datalake(df, name_folder, name_file):\n",
    "    today = datetime.today().strftime(\"%Y%m%d\")\n",
    "    # Camada (bucket) do MinIO para qual os dados extraídos serão enviados\n",
    "    bucket_path = \"raw\"\n",
    "    # Data Mart do DW ao qual esse notebook pertence\n",
    "    business_area = \"sei_cidades\"\n",
    "\n",
    "    minio_host = os.getenv(\"MINIO_HOST\")\n",
    "    minio_access_key = os.getenv(\"MINIO_ACCESS_KEY\")\n",
    "    minio_secret_key = os.getenv(\"MINIO_SECRET_KEY\")\n",
    "\n",
    "    client = Minio(\n",
    "        minio_host,\n",
    "        access_key = minio_access_key,\n",
    "        secret_key = minio_secret_key,\n",
    "        secure = False\n",
    "    )\n",
    "\n",
    "    today = datetime.today().strftime(\"%Y%m%d\")\n",
    "    today_folder = datetime.today().strftime(\"%Y%m%d\")\n",
    "    file_output = f'{name_file}_{today}.json'\n",
    "\n",
    "    # Transforme o DataFrame em uma lista de dicionários\n",
    "    data = df.to_dict(orient='records')\n",
    "\n",
    "    # Crie um arquivo JSON com o formato desejado\n",
    "    with open(file_output, 'w', encoding='utf-8') as json_file:\n",
    "        json.dump(data, json_file, ensure_ascii=False, indent=4)\n",
    "    \n",
    "    sm = SendMinio(client=client,bucket_name=bucket_path,object_name=f\"{business_area}/operacional/{name_folder}/{today_folder}/{file_output}\",file_path=file_output)\n",
    "    sm.send2bucket()\n",
    "    os.remove(file_output)"
   ]
  },
  {
   "cell_type": "markdown",
   "id": "d0789d1a-4a6e-4990-8c12-45d1e3dbe2ec",
   "metadata": {},
   "source": [
    "# Carga"
   ]
  },
  {
   "cell_type": "code",
   "execution_count": 8,
   "id": "451c4d1d-38ee-43f2-b64c-a129f08d705c",
   "metadata": {},
   "outputs": [],
   "source": [
    "name_folder = \"cidades\"\n",
    "name_file = \"cidades\""
   ]
  },
  {
   "cell_type": "code",
   "execution_count": 9,
   "id": "d19d3f06-204b-4555-942b-5c3af5d59923",
   "metadata": {},
   "outputs": [
    {
     "name": "stdout",
     "output_type": "stream",
     "text": [
      "Bucket existente... enviando arquivos\n"
     ]
    }
   ],
   "source": [
    "insert_datalake(df_cidades, name_folder, name_file)"
   ]
  },
  {
   "cell_type": "code",
   "execution_count": null,
   "id": "9332b967-5cbd-41ec-a5bc-2c490a3df351",
   "metadata": {},
   "outputs": [],
   "source": []
  }
 ],
 "metadata": {
  "kernelspec": {
   "display_name": "Python 3 (ipykernel)",
   "language": "python",
   "name": "python3"
  },
  "language_info": {
   "codemirror_mode": {
    "name": "ipython",
    "version": 3
   },
   "file_extension": ".py",
   "mimetype": "text/x-python",
   "name": "python",
   "nbconvert_exporter": "python",
   "pygments_lexer": "ipython3",
   "version": "3.11.6"
  }
 },
 "nbformat": 4,
 "nbformat_minor": 5
}
