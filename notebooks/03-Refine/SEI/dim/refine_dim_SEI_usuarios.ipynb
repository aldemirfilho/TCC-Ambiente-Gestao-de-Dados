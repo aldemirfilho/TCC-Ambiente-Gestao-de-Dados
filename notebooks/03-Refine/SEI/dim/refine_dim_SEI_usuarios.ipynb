{
 "cells": [
  {
   "cell_type": "code",
   "execution_count": 7,
   "metadata": {},
   "outputs": [],
   "source": [
    "import sys\n",
    "sys.path.append('/home/jovyan/work')\n",
    "from utils.SparkRefine import SparkRefine\n",
    "from utils.utils import Utils"
   ]
  },
  {
   "cell_type": "code",
   "execution_count": 8,
   "metadata": {},
   "outputs": [],
   "source": [
    "spark_refine = SparkRefine()\n",
    "utils = Utils()"
   ]
  },
  {
   "cell_type": "code",
   "execution_count": 9,
   "metadata": {},
   "outputs": [],
   "source": [
    "bucket_name = 'standardized'\n",
    "business_area = 'sei_usuarios'\n",
    "source_system = 'operacional'"
   ]
  },
  {
   "cell_type": "code",
   "execution_count": null,
   "metadata": {},
   "outputs": [],
   "source": [
    "file_sei_usuarios = \"usuarios\"\n",
    "file_path = utils.get_recent_data_path(bucket_name, business_area, source_system, file_sei_usuarios)\n",
    "\n",
    "spark_refine.create_spark_temp_view_with_transform(\n",
    "    bucket_name=bucket_name,\n",
    "    file_path=file_path, \n",
    "    view_name=file_sei_usuarios\n",
    "    # rename_columns={\n",
    "    #     'id_centro': 'nk_centro',\n",
    "    # } ,\n",
    "    # cast_columns={\n",
    "    #     'cd_empresa': 'string',\n",
    "    #     'nk_centro': 'string',\n",
    "    #     'nr_ano': 'string',\n",
    "    #     'nr_nivel': 'string',\n",
    "    #     'cd_centro': 'string'\n",
    "    # } ,\n",
    "    # transform_string_columns= ['cd_centro','cd_empresa','cd_integra_key','cd_mascara','nk_centro','nm_centro','nr_ano','nr_nivel'],\n",
    "    # create_sk = 'sk_centroresponsabilidade'\n",
    ")"
   ]
  },
  {
   "cell_type": "code",
   "execution_count": null,
   "metadata": {},
   "outputs": [],
   "source": [
    "spark_refine.generate_parquet_dataframe_from_sql(\n",
    "    sql=f\"\"\"\n",
    "    select * from {file_sei_usuarios}\n",
    "    \"\"\"\n",
    ")"
   ]
  },
  {
   "cell_type": "code",
   "execution_count": 12,
   "metadata": {},
   "outputs": [
    {
     "name": "stdout",
     "output_type": "stream",
     "text": [
      "Adicionando metadados\n",
      "Salvando localmente em pasta temporária\n",
      "Enviando para o MinIO\n",
      "sei_usuarios/operacional/dim_sei_usuarios.parquet/_SUCCESS\n",
      "Bucket existente... enviando arquivos\n",
      "sei_usuarios/operacional/dim_sei_usuarios.parquet/.part-00000-43018c5a-3621-4910-9afc-3abc16b03196-c000.snappy.parquet.crc\n",
      "Bucket existente... enviando arquivos\n",
      "sei_usuarios/operacional/dim_sei_usuarios.parquet/._SUCCESS.crc\n",
      "Bucket existente... enviando arquivos\n",
      "sei_usuarios/operacional/dim_sei_usuarios.parquet/part-00000-43018c5a-3621-4910-9afc-3abc16b03196-c000.snappy.parquet\n",
      "Bucket existente... enviando arquivos\n"
     ]
    }
   ],
   "source": [
    "table_dim_sei_usuarios = \"dim_sei_usuarios\"\n",
    "\n",
    "spark_refine.send_dataframe_to_minio(\n",
    "    f'{business_area}/operacional/{table_dim_sei_usuarios}.parquet', \n",
    ")"
   ]
  },
  {
   "cell_type": "code",
   "execution_count": null,
   "metadata": {},
   "outputs": [],
   "source": []
  }
 ],
 "metadata": {
  "kernelspec": {
   "display_name": "Python 3 (ipykernel)",
   "language": "python",
   "name": "python3"
  },
  "language_info": {
   "codemirror_mode": {
    "name": "ipython",
    "version": 3
   },
   "file_extension": ".py",
   "mimetype": "text/x-python",
   "name": "python",
   "nbconvert_exporter": "python",
   "pygments_lexer": "ipython3",
   "version": "3.11.6"
  }
 },
 "nbformat": 4,
 "nbformat_minor": 4
}
