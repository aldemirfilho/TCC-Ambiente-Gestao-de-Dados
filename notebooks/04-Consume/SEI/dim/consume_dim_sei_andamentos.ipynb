{
 "cells": [
  {
   "cell_type": "code",
   "execution_count": 1,
   "metadata": {},
   "outputs": [],
   "source": [
    "import sys\n",
    "sys.path.append('/home/jovyan/work')\n",
    "from utils.MinioToPostgresLoader import MinioToPostgresLoader"
   ]
  },
  {
   "cell_type": "code",
   "execution_count": 2,
   "metadata": {},
   "outputs": [],
   "source": [
    "business_area = 'sei_andamentos'\n",
    "source_system = 'operacional'\n",
    "view = 'dim_sei_andamentos'\n",
    "write_method = 'overwrite'"
   ]
  },
  {
   "cell_type": "code",
   "execution_count": 4,
   "metadata": {},
   "outputs": [
    {
     "name": "stdout",
     "output_type": "stream",
     "text": [
      "-- Iniciando processamento --\n",
      "Área de Negócio: sei_andamentos\n",
      "Contexto: operacional\n",
      "Fazendo download do arquivo da camada REFINED...\n",
      "Inserindo no banco de dados...\n",
      "-- Processamento finalizado --\n"
     ]
    }
   ],
   "source": [
    "data_loader = MinioToPostgresLoader(write_method, business_area, source_system, view)\n",
    "data_loader.load_data()"
   ]
  },
  {
   "cell_type": "code",
   "execution_count": null,
   "metadata": {},
   "outputs": [],
   "source": []
  }
 ],
 "metadata": {
  "kernelspec": {
   "display_name": "Python 3 (ipykernel)",
   "language": "python",
   "name": "python3"
  },
  "language_info": {
   "codemirror_mode": {
    "name": "ipython",
    "version": 3
   },
   "file_extension": ".py",
   "mimetype": "text/x-python",
   "name": "python",
   "nbconvert_exporter": "python",
   "pygments_lexer": "ipython3",
   "version": "3.11.6"
  }
 },
 "nbformat": 4,
 "nbformat_minor": 4
}
