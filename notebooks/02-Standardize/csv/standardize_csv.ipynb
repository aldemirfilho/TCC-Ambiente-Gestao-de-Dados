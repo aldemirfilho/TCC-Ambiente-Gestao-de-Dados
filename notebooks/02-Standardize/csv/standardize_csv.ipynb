{
 "cells": [
  {
   "cell_type": "code",
   "execution_count": null,
   "id": "7f0c4091-c4a0-4aa6-8775-83382a027d09",
   "metadata": {},
   "outputs": [],
   "source": [
    "import sys\n",
    "sys.path.append('/home/jovyan/work')\n",
    "\n",
    "from utils.SparkStandardize import SparkStandardize\n",
    "from delta.tables import DeltaTable"
   ]
  },
  {
   "cell_type": "code",
   "execution_count": null,
   "id": "8eaf5d72-d1d7-43cc-879e-240ffc00a8b4",
   "metadata": {},
   "outputs": [],
   "source": [
    "sparkStandardize = SparkStandardize(check_table_integrity=True)\n",
    "duplicated_tables = sparkStandardize.normalize_table_files_to_parquet('csv')\n",
    "del sparkStandardize"
   ]
  },
  {
   "cell_type": "code",
   "execution_count": null,
   "id": "409d54ee-a09f-4c49-a1b3-babc2047de92",
   "metadata": {},
   "outputs": [],
   "source": [
    "duplicated_tables"
   ]
  }
 ],
 "metadata": {
  "kernelspec": {
   "display_name": "Python 3 (ipykernel)",
   "language": "python",
   "name": "python3"
  },
  "language_info": {
   "codemirror_mode": {
    "name": "ipython",
    "version": 3
   },
   "file_extension": ".py",
   "mimetype": "text/x-python",
   "name": "python",
   "nbconvert_exporter": "python",
   "pygments_lexer": "ipython3",
   "version": "3.11.0rc1"
  }
 },
 "nbformat": 4,
 "nbformat_minor": 5
}
